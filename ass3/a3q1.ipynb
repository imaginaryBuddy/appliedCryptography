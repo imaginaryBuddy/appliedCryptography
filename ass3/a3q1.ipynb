{
 "cells": [
  {
   "cell_type": "markdown",
   "id": "ef015824-d0fb-49d2-84eb-b706ba1be75d",
   "metadata": {},
   "source": [
    "# Assignment 3 Question 1\n",
    "\n",
    "### CO 487/687 Applied Cryptography Fall 2023 \n",
    "\n",
    "This Jupyter notebook contains Python 3 code for Assignment 3 Question 1 on \"Symemtric Encryption in Python\".\n",
    "\n",
    "### Documentation\n",
    "\n",
    "- [Python cryptography library](https://cryptography.io/en/latest/)"
   ]
  },
  {
   "cell_type": "markdown",
   "id": "2948cd7d-5ce4-4c02-a6cf-e61c5bf8a673",
   "metadata": {},
   "source": [
    "The following code imports all the required functions for the assignment."
   ]
  },
  {
   "cell_type": "code",
   "execution_count": 1,
   "id": "9b7a43a4-5b20-4257-9df6-06784f4e604c",
   "metadata": {},
   "outputs": [],
   "source": [
    "import base64\n",
    "import getpass\n",
    "import json\n",
    "import os\n",
    "import sys\n",
    "from cryptography.hazmat.primitives import hashes, hmac\n",
    "from cryptography.hazmat.primitives.kdf.pbkdf2 import PBKDF2HMAC\n",
    "from cryptography.hazmat.primitives.ciphers import Cipher, algorithms, modes    \n",
    "from cryptography.hazmat.primitives import padding\n",
    "from cryptography.hazmat.primitives import constant_time"
   ]
  },
  {
   "cell_type": "markdown",
   "id": "2006d7f1-e4a6-4fec-acf8-4aa4edc0786c",
   "metadata": {},
   "source": [
    "These two functions convert a byte array into a printable string and back, which might be helpful to you since cryptographic routines often work with byte arrays."
   ]
  },
  {
   "cell_type": "code",
   "execution_count": 2,
   "id": "a4219e0e-2bf4-4488-82f2-43a6fcf6374c",
   "metadata": {},
   "outputs": [],
   "source": [
    "def bytes2string(b):\n",
    "    return base64.urlsafe_b64encode(b).decode('utf-8')\n",
    "\n",
    "def string2bytes(s):\n",
    "    return base64.urlsafe_b64decode(s.encode('utf-8'))"
   ]
  },
  {
   "cell_type": "markdown",
   "id": "a4774352-9e99-4800-b698-c684f39ec060",
   "metadata": {},
   "source": [
    "Implement the main encryption function below. Your function will take as input a string, and will output a string or dictionary containing all the values needed to decrypt (other than the password, of course). The code below will prompt the user to enter their password during encryption."
   ]
  },
  {
   "cell_type": "code",
   "execution_count": 3,
   "id": "071c13d4-2adc-4038-b6a6-4e4425fa750b",
   "metadata": {},
   "outputs": [],
   "source": [
    "def encrypt(message):\n",
    "    \n",
    "    # encode the string as a byte string, since cryptographic functions usually work on bytes\n",
    "    plaintext = message.encode('utf-8')\n",
    "\n",
    "    # Use getpass to prompt the user for a password\n",
    "    password = getpass.getpass(\"Enter password:\")\n",
    "    password2 = getpass.getpass(\"Enter password again:\")\n",
    "\n",
    "    # Do a quick check to make sure that the password is the same!\n",
    "    if password != password2:\n",
    "        sys.stderr.write(\"Passwords did not match\")\n",
    "        sys.exit()\n",
    "\n",
    "    ### START: This is what you have to change\n",
    "    '''\n",
    "    Encryption: \n",
    "    1. Prepare the key for HMAC (k_for_mac) using the password \n",
    "    2. Prepare the key for encryption (k_for_encryption) using the key for HMAC \n",
    "    3. Pad the plaintext to ensure that it can conform to block size of 16 bytes (128 bits) in AES\n",
    "    4. Perform encryption using AES and k_for_encryption on the padded plaintext to get ciphertext\n",
    "    5. Obtain the mac_tag using HMAC on the ciphertext and k_for_mac (this essentially performs EtM)\n",
    "    6. Return the ciphertext, mac_tag, and other configurations that are not secret, but needed for decryption\n",
    "    '''\n",
    "    # STEP 1 \n",
    "    salt = os.urandom(16)\n",
    "\n",
    "    kdf_for_mac = PBKDF2HMAC(\n",
    "        algorithm=hashes.SHA3_256(), \n",
    "        length=16, # we need 128-bits == 16 bytes for AES128\n",
    "        salt=salt,\n",
    "        iterations=200000 \n",
    "    )\n",
    "\n",
    "    pwd_encoded = password.encode('utf-8')\n",
    "    k_for_mac= kdf_for_mac.derive(pwd_encoded) \n",
    "\n",
    "    kdf_for_encryption = PBKDF2HMAC(\n",
    "        algorithm=hashes.SHA3_256(), \n",
    "        length=16, # we need 128-bits == 16 bytes for AES128\n",
    "        salt=salt,\n",
    "        iterations=200000 \n",
    "    )\n",
    "\n",
    "    # STEP 2\n",
    "    k_for_encryption=kdf_for_encryption.derive(k_for_mac)\n",
    "\n",
    "    nonce_for_cipher = os.urandom(16) # the nonce has to be the same size as the block size of AES == 128\n",
    "    cipher = Cipher(algorithms.AES(k_for_encryption), modes.CTR(nonce_for_cipher))\n",
    "    encryptor = cipher.encryptor()\n",
    "\n",
    "    # STEP 3\n",
    "    padder = padding.PKCS7(16).padder() \n",
    "    padded_data = padder.update(plaintext) + padder.finalize() \n",
    "\n",
    "    # STEP 4\n",
    "    ct = encryptor.update(padded_data) + encryptor.finalize()\n",
    "    \n",
    "    # STEP 5\n",
    "    h = hmac.HMAC(k_for_mac, hashes.SHA256())\n",
    "    h.update(ct)\n",
    "    mac_tag = h.finalize()\n",
    "\n",
    "    # STEP 6 \n",
    "    return {\"ct\": ct, \"mac_tag\": mac_tag, \"salt\": salt, \"nonce_for_cipher\": nonce_for_cipher}\n",
    "    \n",
    "    ### END: This is what you have to change"
   ]
  },
  {
   "cell_type": "markdown",
   "id": "52bbc60c",
   "metadata": {},
   "source": []
  },
  {
   "cell_type": "markdown",
   "id": "755c486e-533e-45cc-bfb2-84a3639fd7c2",
   "metadata": {},
   "source": [
    "Now we call the `encrypt` function with a message, and print out the ciphertext it generates."
   ]
  },
  {
   "cell_type": "code",
   "execution_count": 4,
   "id": "90218d89-3d57-4790-9b0c-d42a99b6a0e8",
   "metadata": {},
   "outputs": [
    {
     "name": "stdout",
     "output_type": "stream",
     "text": [
      "Enter password:········\n",
      "Enter password again:········\n"
     ]
    }
   ],
   "source": [
    "mymessage = \"Hello, world!\"\n",
    "ciphertext = encrypt(mymessage)"
   ]
  },
  {
   "cell_type": "markdown",
   "id": "38ccdb8b-f692-4bea-9da2-4f466be0a931",
   "metadata": {},
   "source": [
    "Implement the main decryption function below.  Your function will take as input the string or dictionary output by `encrypt`, prompt the user to enter the password, and then do all the relevant cryptographic operations."
   ]
  },
  {
   "cell_type": "code",
   "execution_count": 5,
   "id": "7c96fa51-c307-4bd1-bba5-ce53fc4bfc18",
   "metadata": {},
   "outputs": [],
   "source": [
    "def decrypt(ciphertext):\n",
    "    \n",
    "    # prompt the user for the password\n",
    "    password = getpass.getpass(\"Enter the password:\")\n",
    "\n",
    "    ### START: This is what you have to change\n",
    "    ''''''\n",
    "    '''\n",
    "    Decryption: \n",
    "    1. Extract important constants from the ciphertext dictionary\n",
    "    2. Use the password inputted by user, to derive k_for_mac \n",
    "    3. Check whether the mac_tag is valid based on the k_for_mac and the ciphertext ct \n",
    "    4. If valid, then continue\n",
    "    5. Derive k_for_decryption using k_for_mac\n",
    "    6. Decrypt ct, using k_for_decryption\n",
    "    7. Return the decrypted text \n",
    "    '''\n",
    "    # STEP 1 \n",
    "    # get the salt \n",
    "    salt = ciphertext[\"salt\"]\n",
    "    # get the mac_tag\n",
    "    mac_tag = ciphertext[\"mac_tag\"]\n",
    "    # ciphertext containing message\n",
    "    ct = ciphertext[\"ct\"]\n",
    "\n",
    "    # STEP 2\n",
    "    kdf_for_mac = PBKDF2HMAC(\n",
    "        algorithm=hashes.SHA3_256(), \n",
    "        length=16, # we need 128-bits == 16 bytes for AES128\n",
    "        salt=salt,\n",
    "        iterations=200000 \n",
    "    )\n",
    "    \n",
    "    pwd_encoded = password.encode('utf-8')\n",
    "    k_for_mac= kdf_for_mac.derive(pwd_encoded)\n",
    "\n",
    "    # STEP 3\n",
    "    h = hmac.HMAC(k_for_mac, hashes.SHA256())\n",
    "    h.update(ct)\n",
    "    h.verify(mac_tag)\n",
    "    \n",
    "    # STEP 4 note that, h.verify raises an exception if verification fails  \n",
    "\n",
    "    # STEP 5\n",
    "    # get key for decryption \n",
    "    kdf_for_decryption = PBKDF2HMAC(\n",
    "        algorithm=hashes.SHA3_256(), \n",
    "        length=16, # we need 128-bits == 16 bytes for AES128\n",
    "        salt=salt,\n",
    "        iterations=200000 \n",
    "    )\n",
    "\n",
    "    k_for_decryption = kdf_for_decryption.derive(k_for_mac)\n",
    "\n",
    "    # STEP 6 \n",
    "    # get the nonce \n",
    "    nonce_for_cipher = ciphertext[\"nonce_for_cipher\"]\n",
    "    \n",
    "    cipher = Cipher(algorithms.AES(k_for_decryption), modes.CTR(nonce_for_cipher))\n",
    "    decryptor = cipher.decryptor()\n",
    "\n",
    "    plaintext = decryptor.update(ct)\n",
    "    ### END: This is what you have to change\n",
    "    # decode the byte string back to a string\n",
    "    # STEP 7\n",
    "    return plaintext.decode('utf-8')"
   ]
  },
  {
   "cell_type": "markdown",
   "id": "ef3bd698-cecd-489e-a19d-73e964bb598d",
   "metadata": {},
   "source": [
    "Now let's try decrypting the ciphertext you encrypted above by entering the same password as you used for encryption."
   ]
  },
  {
   "cell_type": "code",
   "execution_count": 6,
   "id": "3af449da-3d2e-48cf-a0e7-8ffcd4a3434f",
   "metadata": {},
   "outputs": [
    {
     "name": "stdout",
     "output_type": "stream",
     "text": [
      "Enter the password:········\n",
      "Hello, world!\u0001\n"
     ]
    },
    {
     "ename": "AssertionError",
     "evalue": "",
     "output_type": "error",
     "traceback": [
      "\u001b[0;31m---------------------------------------------------------------------------\u001b[0m",
      "\u001b[0;31mAssertionError\u001b[0m                            Traceback (most recent call last)",
      "Input \u001b[0;32mIn [6]\u001b[0m, in \u001b[0;36m<cell line: 3>\u001b[0;34m()\u001b[0m\n\u001b[1;32m      1\u001b[0m mymessagedecrypted \u001b[38;5;241m=\u001b[39m decrypt(ciphertext)\n\u001b[1;32m      2\u001b[0m \u001b[38;5;28mprint\u001b[39m(mymessagedecrypted)\n\u001b[0;32m----> 3\u001b[0m \u001b[38;5;28;01massert\u001b[39;00m mymessagedecrypted \u001b[38;5;241m==\u001b[39m mymessage\n",
      "\u001b[0;31mAssertionError\u001b[0m: "
     ]
    }
   ],
   "source": [
    "mymessagedecrypted = decrypt(ciphertext)\n",
    "print(mymessagedecrypted)\n",
    "assert mymessagedecrypted == mymessage"
   ]
  },
  {
   "cell_type": "markdown",
   "id": "b677baa9-72fe-4b4d-9253-5b920bfc27ee",
   "metadata": {},
   "source": [
    "Try again but this time see what happens if you use a different password to decrypt. Your function should fail."
   ]
  },
  {
   "cell_type": "code",
   "execution_count": null,
   "id": "5005c99d-00bf-4746-8e5c-f075f756aea2",
   "metadata": {},
   "outputs": [],
   "source": [
    "mymessagedecrypted = decrypt(ciphertext)\n",
    "print(mymessagedecrypted)\n",
    "assert mymessagedecrypted == mymessage"
   ]
  },
  {
   "cell_type": "code",
   "execution_count": null,
   "id": "85e7baa5",
   "metadata": {},
   "outputs": [],
   "source": []
  }
 ],
 "metadata": {
  "kernelspec": {
   "display_name": "gis",
   "language": "python",
   "name": "gis"
  },
  "language_info": {
   "codemirror_mode": {
    "name": "ipython",
    "version": 3
   },
   "file_extension": ".py",
   "mimetype": "text/x-python",
   "name": "python",
   "nbconvert_exporter": "python",
   "pygments_lexer": "ipython3",
   "version": "3.9.12"
  }
 },
 "nbformat": 4,
 "nbformat_minor": 5
}
